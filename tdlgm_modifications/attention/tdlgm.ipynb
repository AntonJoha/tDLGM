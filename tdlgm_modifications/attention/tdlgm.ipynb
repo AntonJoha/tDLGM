{
 "cells": [
  {
   "cell_type": "code",
   "execution_count": 1,
   "id": "5651277a-4947-47fd-9584-bc2d650f3849",
   "metadata": {},
   "outputs": [
    {
     "name": "stdout",
     "output_type": "stream",
     "text": [
      "Using device:  cpu\n",
      "2.5.1\n"
     ]
    }
   ],
   "source": [
    "\n",
    "import torch\n",
    "import torch.optim as optim\n",
    "import torch.nn as nn\n",
    "from parse_data import get_data, get_modified_values, get_binary_values, make_data_scalar\n",
    "import numpy as np\n",
    "import random\n",
    "from data_gen import Datagen\n",
    "from recognition import Recognition\n",
    "from generator import Generator\n",
    "from evaluation import evaluate_model, bin_plot\n",
    "from time_recognition import TimeRecognition\n",
    "\n",
    "device = torch.device('cuda' if torch.cuda.is_available() else 'cpu')\n",
    "#device=None\n",
    "print(\"Using device: \", device)\n",
    "\n",
    "import torch\n",
    "print(torch.__version__)\n",
    " "
   ]
  },
  {
   "cell_type": "code",
   "execution_count": 2,
   "id": "23f4c9a1-56ec-4e52-abf2-e0fd1eb372dc",
   "metadata": {},
   "outputs": [
    {
     "name": "stderr",
     "output_type": "stream",
     "text": [
      "/home/kentagent/Documents/code/tDLGM/tdlgm_modifications/attention/data_gen.py:49: FutureWarning: Series.__getitem__ treating keys as positions is deprecated. In a future version, integer keys will always be treated as labels (consistent with DataFrame behavior). To access a value by position, use `ser.iloc[pos]`\n",
      "  m = df.max()[0]\n"
     ]
    },
    {
     "name": "stdout",
     "output_type": "stream",
     "text": [
      "x tensor([[0.],\n",
      "        [0.]])\n",
      "y tensor([1.])\n",
      "x_1 tensor([[0.0000],\n",
      "        [0.9974]])\n"
     ]
    }
   ],
   "source": [
    "gen = Datagen(device)\n",
    "\n",
    "x, y, x_1 = gen.get_generated_data(seq_len=2)\n",
    "\n",
    "print(\"x\", x[0])\n",
    "print(\"y\", y[0])\n",
    "print(\"x_1\", x_1[0])"
   ]
  },
  {
   "cell_type": "code",
   "execution_count": 3,
   "id": "89fbcf9a-7ef1-4612-897b-6b49b12a716d",
   "metadata": {},
   "outputs": [],
   "source": [
    "#### import random\n",
    "\n",
    "# Hyperparameters\n",
    "sequence_length = [2*i for i in range(4,16)] # 2-20 increments of two\n",
    "hidden_layers = [1,2] # 1 and 2\n",
    "hidden_1 = [2**i for i in range(2,7)] # 2^4 to 2^9\n",
    "hidden_2 =[2**i for i in range(5,10)] # 2^2 to 2^5\n",
    "variance = [0.001, 0.01, 0.005, 0.05]\n",
    "lr = [1/10**i for i in range(3,10)] # stop at 0.005\n",
    "data_probability = [i/5 for i in range(1,6)]\n",
    "regularization = [1/i for i in range(3,15)]\n",
    "for i in range(3):\n",
    "    regularization.append(0)\n",
    "\n",
    "epochs = 1\n",
    "optimizer = [optim.Adam, optim.SGD]\n",
    "\n",
    "options = []\n",
    "\n",
    "for seq_len in sequence_length:\n",
    "    for layers in hidden_layers:\n",
    "        for h1 in hidden_1:\n",
    "            for h2 in hidden_2:\n",
    "                for l in lr:\n",
    "                    for v in variance:\n",
    "                        for p in data_probability:\n",
    "                            for r in regularization:\n",
    "                                entry = {}\n",
    "                                entry[\"seq_len\"] = seq_len\n",
    "                                entry[\"layers\"] = layers\n",
    "                                entry[\"latent\"] = h1\n",
    "                                entry[\"hidden\"] = h2\n",
    "                                entry[\"l\"] = l\n",
    "                                entry[\"variance\"] = v\n",
    "                                entry[\"data_prob\"] = p\n",
    "                                entry[\"regularization\"] = r\n",
    "                                options.append(entry)\n",
    "                \n",
    "                                         \n",
    "random.shuffle(options)    \n",
    "\n",
    "input_dim = 1\n",
    "nn_size = [10,10]\n",
    "state_dim = 2\n",
    "batch_sizes = [4,3,2]\n",
    "latent_dim = 2\n",
    "output_dim = 1\n",
    "seq_len=2"
   ]
  },
  {
   "cell_type": "code",
   "execution_count": 4,
   "id": "3d142c6d-9344-4629-81ac-187bfc6abc19",
   "metadata": {},
   "outputs": [
    {
     "name": "stdout",
     "output_type": "stream",
     "text": [
      "torch.Size([100, 2])\n"
     ]
    }
   ],
   "source": [
    "import torch\n",
    "\n",
    "tensor = torch.rand(100, 24, 2)  # Example tensor\n",
    "last_entry = tensor[:, -1, :]\n",
    "print(last_entry.shape)"
   ]
  },
  {
   "cell_type": "code",
   "execution_count": null,
   "id": "8ad534be-bb82-41da-87ff-929f023a02af",
   "metadata": {},
   "outputs": [
    {
     "name": "stderr",
     "output_type": "stream",
     "text": [
      "/home/kentagent/Documents/code/tDLGM/tdlgm_modifications/attention/data_gen.py:68: FutureWarning: Series.__getitem__ treating keys as positions is deprecated. In a future version, integer keys will always be treated as labels (consistent with DataFrame behavior). To access a value by position, use `ser.iloc[pos]`\n",
      "  m = df.max()[0]\n"
     ]
    },
    {
     "name": "stdout",
     "output_type": "stream",
     "text": [
      "[0, 46.404073616126915, 7149.893775939941]\n",
      "New best model:\n",
      "New loss:  [0, 46.404073616126915, 7149.893775939941] \n",
      "Old loss: 0 \n",
      "History: [[0, 46.404073616126915, 7149.893775939941]]\n"
     ]
    },
    {
     "name": "stderr",
     "output_type": "stream",
     "text": [
      "/home/kentagent/Documents/code/tDLGM/tdlgm_modifications/attention/data_gen.py:68: FutureWarning: Series.__getitem__ treating keys as positions is deprecated. In a future version, integer keys will always be treated as labels (consistent with DataFrame behavior). To access a value by position, use `ser.iloc[pos]`\n",
      "  m = df.max()[0]\n"
     ]
    }
   ],
   "source": [
    "\n",
    "\n",
    "import torch.utils.data as data\n",
    "from itertools import chain\n",
    "import torch.nn.functional as F\n",
    "\n",
    "def loss(x, x_hat, mean, R, mean_state, R_state, device=None, seq_len=1):\n",
    "\n",
    "    mse = nn.MSELoss().to(device)\n",
    "    l = F.binary_cross_entropy(x_hat, x, reduction='sum')\n",
    "    amount = mean[0].size()[0]*mean[0].size()[1]\n",
    "    for m, r in zip(mean, R):\n",
    "\n",
    "        C = r @ r.transpose(-2,-1)\n",
    "        det = C.det()\n",
    "        l += 0.5 * torch.sum(m.pow(2).sum(-1)\n",
    "                             + C.diagonal(dim1=-2,dim2=-1).sum(-1)\n",
    "                            -det.log()  -1)/amount\n",
    "\n",
    "    amount = len(mean_state)*mean_state[0].size()[0]\n",
    "    for m_l, r_l in zip(mean_state, R_state):\n",
    "        for m, r in zip(m_l, r_l):\n",
    "\n",
    "            C = r @ r.transpose(-1, 0)\n",
    "            det = C.det()\n",
    "            if det <= 0: # TODO, is there a better solution to this?\n",
    "                continue\n",
    "            \n",
    "\n",
    "            l += 0.5* (\n",
    "            torch.sum(torch.sum(m.pow(2).sum(-1)) + C.diagonal(dim1=-2, dim2=-1).sum(-1) - det.log() - 1)\n",
    "            )/amount\n",
    "\n",
    "\n",
    "    return l\n",
    "\n",
    "\n",
    "\n",
    "\n",
    "best_model = None\n",
    "best_score = 10000000000000000\n",
    "batch_size = 100\n",
    "best_history= [0,0,0,0,0,0]\n",
    "for entry in options:\n",
    "\n",
    "    x_d, y_d, x_1_d = gen.get_generated_data(entry[\"seq_len\"], entry[\"variance\"], entry[\"data_prob\"])\n",
    "    x_t, y_t, x_t_1 = gen.get_true_data(entry[\"seq_len\"])\n",
    "    x_val, y_val, x_val_1 = gen.get_test_data(entry[\"seq_len\"])\n",
    "\n",
    "\n",
    "\n",
    "    \n",
    "    model_t = TimeRecognition(input_dim=input_dim,\n",
    "                              network_size=nn_size,\n",
    "                              batches=batch_sizes,\n",
    "                              seq_len=seq_len,\n",
    "                              state_dim=state_dim)\n",
    "\n",
    "    model_g = Generator(state_dim=state_dim,\n",
    "                        network_size=nn_size,\n",
    "                        latent_dim=latent_dim,\n",
    "                        layers=layers,\n",
    "                        num_heads=2,\n",
    "                        output_dim=output_dim,\n",
    "                        seq_len=seq_len,\n",
    "                        activation_function=nn.Sigmoid,\n",
    "                        device=device)\n",
    "    \n",
    "    model_r = Recognition(input_dim=input_dim,\n",
    "                          latent_dim=latent_dim,\n",
    "                          layers=layers)\n",
    "\n",
    "    #evaluate_model(model_g,model_r, model_t, x_t, y_t, x_t_1,x_val,y_val, x_val_1, entry)\n",
    "\n",
    "\n",
    "    loader = data.DataLoader(data.TensorDataset(x_d, y_d, x_1_d), batch_size=batch_size, shuffle=True)\n",
    "    optimizer = optim.Adam(chain(model_r.parameters(), model_g.parameters(), model_t.parameters()), lr=entry[\"l\"])\n",
    "    #optimizer = optim.Adam(model_r.parameters())\n",
    "    history = []\n",
    "    bce = nn.BCELoss().to(device)\n",
    "    for e in range(epochs):\n",
    "        model_g.train()\n",
    "        model_r.train()\n",
    "        model_t.train()\n",
    "\n",
    "\n",
    "        for x, y, x_1 in loader:\n",
    "\n",
    "            x.to(device)\n",
    "            y.to(device)\n",
    "            if x.size()[0] < batch_size:\n",
    "                continue\n",
    "            if random.random() < 0.5:\n",
    "                continue\n",
    "\n",
    "\n",
    "            mean_state, log_var, state = model_t(x)\n",
    "            mean, R, z = model_r(x_1[:,-1,:])\n",
    "            model_g.set_xi(z)\n",
    "            res = model_g(state)\n",
    "\n",
    "            l = loss(y, res, mean, R, mean_state, log_var, device)\n",
    "            optimizer.zero_grad()\n",
    "            l.backward()\n",
    "            optimizer.step()\n",
    "                        \n",
    "\n",
    "        \n",
    "        if e % 10 != 0:\n",
    "            continue\n",
    "        \n",
    "        count = 0\n",
    "        sum_loss = [0, 0]\n",
    "        for j in range(2):\n",
    "            for x, y, x_1 in loader:\n",
    "                model_g.eval()\n",
    "                model_t.eval()\n",
    "                model_r.eval()\n",
    "                model_g.make_xi()\n",
    "                with torch.no_grad():\n",
    "                    mean_state, log_var, state = model_t(x)\n",
    "                    mean, R, z = model_r(x_1[:,-1,:])\n",
    "                    model_g.set_xi(z)\n",
    "                    res = model_g(state)\n",
    "\n",
    "                    l = loss(y, res, mean, R, mean_state, log_var, device)\n",
    "                    res = []\n",
    "                    \n",
    "                    sum_loss[j] += l.item()\n",
    "                    count += 1\n",
    "                    \n",
    "        \n",
    "        \n",
    "        sum_loss[0] /= count\n",
    "     \n",
    "        \n",
    "        history.append([e, sum_loss[0], sum_loss[1]])\n",
    "        print(history[-1])\n",
    "\n",
    "        if len(history) > 15:\n",
    "            #if no real improvements are being done stop the training. \n",
    "            # but keep doing the training if the results without correctly feeding values get better\n",
    "            if abs(history[-15][1] - history[-1][1]) < 0.0001:\n",
    "                break\n",
    "        \n",
    "\n",
    "    if history[-1][1] < best_score:\n",
    "        print(\"New best model:\\nNew loss: \", history[-1], \"\\nOld loss:\", best_history[-1], \"\\nHistory:\" , history[-10:])\n",
    "        best_model = model_g\n",
    "        best_history = history\n",
    "        best_score = history[-1][1]\n",
    "        best_config = entry\n",
    "        with torch.no_grad():\n",
    "            evaluate_model(best_model,model_r, model_t, x_t, y_t, x_t_1,x_val,y_val, x_val_1, entry)\n",
    "    else:\n",
    "        with torch.no_grad():\n",
    "            evaluate_model(model_g,model_r, model_t, x_t, y_t, x_t_1,x_val,y_val, x_val_1, entry)\n",
    "        print(\"Old model still stands:\\nCurrent loss: \", history[-1], \"\\nBest loss:\", best_history[-1])\n",
    "    "
   ]
  },
  {
   "cell_type": "code",
   "execution_count": null,
   "id": "0d6fd679-0e46-4e3d-b548-b02dfed77de9",
   "metadata": {
    "tags": []
   },
   "outputs": [],
   "source": [
    "a = torch.zeros(10,5,1)"
   ]
  },
  {
   "cell_type": "code",
   "execution_count": null,
   "id": "28ffcb04-3b05-49bb-acab-3a092e164958",
   "metadata": {},
   "outputs": [],
   "source": [
    "a[:,-1,:].size()"
   ]
  },
  {
   "cell_type": "code",
   "execution_count": null,
   "id": "c9cb3216-ed30-4aef-b474-86876367c625",
   "metadata": {},
   "outputs": [],
   "source": [
    "b = torch.zeros(30,1)\n",
    "c = torch.zeros(1,1)\n"
   ]
  },
  {
   "cell_type": "code",
   "execution_count": null,
   "id": "d5dcd188-fc2a-4787-b7a8-37676fdfd0f9",
   "metadata": {},
   "outputs": [],
   "source": [
    "torch.cat((b[1:],c))"
   ]
  },
  {
   "cell_type": "code",
   "execution_count": null,
   "id": "0318994d-62c5-4561-8acc-bc76c62b377d",
   "metadata": {},
   "outputs": [],
   "source": [
    "23"
   ]
  }
 ],
 "metadata": {
  "kernelspec": {
   "display_name": "Python 3 (ipykernel)",
   "language": "python",
   "name": "python3"
  },
  "language_info": {
   "codemirror_mode": {
    "name": "ipython",
    "version": 3
   },
   "file_extension": ".py",
   "mimetype": "text/x-python",
   "name": "python",
   "nbconvert_exporter": "python",
   "pygments_lexer": "ipython3",
   "version": "3.12.9"
  }
 },
 "nbformat": 4,
 "nbformat_minor": 5
}
