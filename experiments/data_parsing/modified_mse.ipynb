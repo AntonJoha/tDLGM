{
 "cells": [
  {
   "cell_type": "code",
   "execution_count": 1,
   "id": "955f2524-3b2b-4cb4-858e-70355176646d",
   "metadata": {},
   "outputs": [
    {
     "name": "stdout",
     "output_type": "stream",
     "text": [
      "Defaulting to user installation because normal site-packages is not writeable\n",
      "Collecting termcolor\n",
      "  Downloading termcolor-3.0.1-py3-none-any.whl.metadata (6.1 kB)\n",
      "Downloading termcolor-3.0.1-py3-none-any.whl (7.2 kB)\n",
      "Installing collected packages: termcolor\n",
      "Successfully installed termcolor-3.0.1\n"
     ]
    },
    {
     "name": "stderr",
     "output_type": "stream",
     "text": [
      "/home/carladm/Documents/tDLGM/experiments/data_parsing/data_gen.py:49: FutureWarning: Series.__getitem__ treating keys as positions is deprecated. In a future version, integer keys will always be treated as labels (consistent with DataFrame behavior). To access a value by position, use `ser.iloc[pos]`\n",
      "  m = df.max()[0]\n",
      "/home/carladm/Documents/tDLGM/experiments/data_parsing/data_gen.py:68: FutureWarning: Series.__getitem__ treating keys as positions is deprecated. In a future version, integer keys will always be treated as labels (consistent with DataFrame behavior). To access a value by position, use `ser.iloc[pos]`\n",
      "  m = df.max()[0]\n"
     ]
    },
    {
     "data": {
      "text/html": [
       "<text style=color:red>Hello</text>"
      ],
      "text/plain": [
       "<IPython.core.display.HTML object>"
      ]
     },
     "metadata": {},
     "output_type": "display_data"
    }
   ],
   "source": [
    "!pip install termcolor --break-system-packages\n",
    "import json\n",
    "import matplotlib.pyplot as plt\n",
    "import numpy as np\n",
    "import data_handling as dh\n",
    "from data_gen import Datagen\n",
    "from termcolor import colored\n",
    "from scipy.stats import ttest_ind\n",
    "\n",
    "\n",
    "\n",
    "types = {\"tdlgm\": \"../tdlgm/results\"}#, \"dlgm\": \"../dlgm/results\", \"rnn\": \"../rnn/results\"}\n",
    "\n",
    "from IPython.display import HTML as html_print\n",
    "\n",
    "def color_print(s, color='black'):\n",
    "    display(html_print((\"<text style=color:{}>{}</text>\".format(color, s))))\n",
    "\n",
    "color_print(\"Hello\", \"red\")\n",
    "\n",
    "\n",
    "\n",
    "\n",
    "def allowed(file):\n",
    "    lowest = 1\n",
    "    for i in range(len(file)):\n",
    "        for k in range(len(file)):\n",
    "            res = ttest_ind(file[i], file[k], equal_var = False).pvalue\n",
    "            if res < lowest:\n",
    "                lowest = res\n",
    "    print(lowest)\n",
    "    return lowest\n",
    "\n",
    "def get_file(filename=\"entries\"):\n",
    "    l = None\n",
    "    with open(filename, \"r\") as f:\n",
    "        l = json.loads(f.read())\n",
    "    return l\n",
    "\n",
    "def draw_other(y,y_t, title, name=\"\"):\n",
    "    fig, ax = plt.subplots(2, layout=\"constrained\")\n",
    "    \n",
    "    ax[0].plot( range(1,101) , y_t[:100])\n",
    "    ax[0].plot( range(1,101) , y[:100])\n",
    "    \n",
    "    ax[1].plot( range(400,500) , y_t[400:])\n",
    "    ax[1].plot(range(400,500), y[400:])\n",
    "    \n",
    "    for a in ax:\n",
    "        a.set_xlabel(\"Timestep\")\n",
    "        a.set_ylabel(\"Fraction of GPU\")\n",
    "    \n",
    "    fig.suptitle(title)\n",
    "    if name != \"\":\n",
    "        fig.savefig(name)\n",
    "        plt.close(\"all\")\n",
    "\n"
   ]
  },
  {
   "cell_type": "code",
   "execution_count": 2,
   "id": "c7a54233-fe53-4ac2-bfaf-612ba96df6be",
   "metadata": {},
   "outputs": [
    {
     "ename": "KeyError",
     "evalue": "'rnn'",
     "output_type": "error",
     "traceback": [
      "\u001b[0;31m---------------------------------------------------------------------------\u001b[0m",
      "\u001b[0;31mKeyError\u001b[0m                                  Traceback (most recent call last)",
      "Cell \u001b[0;32mIn[2], line 1\u001b[0m\n\u001b[0;32m----> 1\u001b[0m rnn_files \u001b[38;5;241m=\u001b[39m dh\u001b[38;5;241m.\u001b[39mget_all_files(\u001b[43mtypes\u001b[49m\u001b[43m[\u001b[49m\u001b[38;5;124;43m\"\u001b[39;49m\u001b[38;5;124;43mrnn\u001b[39;49m\u001b[38;5;124;43m\"\u001b[39;49m\u001b[43m]\u001b[49m)\n",
      "\u001b[0;31mKeyError\u001b[0m: 'rnn'"
     ]
    }
   ],
   "source": [
    "\n",
    "\n",
    "\n",
    "rnn_files = dh.get_all_files(types[\"rnn\"])"
   ]
  },
  {
   "cell_type": "code",
   "execution_count": null,
   "id": "39ca9917-e9f3-43c6-b8e6-b5cb0a11721f",
   "metadata": {},
   "outputs": [],
   "source": [
    "from data_gen import Datagen\n",
    "import matplotlib.pyplot as plt\n",
    "\n",
    "gen = Datagen(None)\n",
    "\n",
    "_, y_val, _ = gen.get_test_data(1)\n",
    "\n",
    "\n",
    "def get_file(filename=\"entries\"):\n",
    "    l = None\n",
    "    with open(filename, \"r\") as f:\n",
    "        l = json.loads(f.read())\n",
    "    return l\n",
    "\n",
    "def draw_other(y,y_t, title, name=\"\"):\n",
    "    fig, ax = plt.subplots(2, layout=\"constrained\")\n",
    "    \n",
    "    ax[0].plot( range(1,101) , y_t[:100])\n",
    "    ax[0].plot( range(1,101) , y[:100])\n",
    "    \n",
    "    ax[1].plot( range(400,500) , y_t[400:])\n",
    "    ax[1].plot(range(400,500), y[400:])\n",
    "    \n",
    "    for a in ax:\n",
    "        a.set_xlabel(\"Timestep\")\n",
    "        a.set_ylabel(\"Fraction of GPU\")\n",
    "    \n",
    "    fig.suptitle(title)\n",
    "    if name != \"\":\n",
    "        fig.savefig(name)\n",
    "        plt.close(\"all\")\n",
    "    else:\n",
    "        plt.show()\n",
    "        plt.close()\n",
    "\n",
    "\n",
    "\n",
    "\n",
    "\n",
    "\n",
    "\n",
    "\n",
    "results = []\n",
    "for i in rnn_files:\n",
    "    f = dh.get_file( types[\"rnn\"] + \"/\"  + i)\n",
    "\n",
    "    to_add = {}\n",
    "    to_add[\"name\"] = i\n",
    "    to_add[\"entries\"] = []\n",
    "    values = []\n",
    "    for p in f[0][\"test_run\"]:\n",
    "        entry = {}\n",
    "        entry[\"variance\"] = p[\"variance\"]\n",
    "        entry[\"probability\"] = p[\"probability\"]\n",
    "        arr = np.concatenate(p[\"diff\"])\n",
    "        values.append(arr)\n",
    "        entry[\"mean\"] = np.mean(arr)\n",
    "        entry[\"var\"] = np.var(arr)\n",
    "\n",
    "        to_add[\"entries\"].append(entry)\n",
    "\n",
    "    p = allowed(values)\n",
    "    print(\"*\" * 20, \"\\n\", i, \"\\n\")\n",
    "    color = \"red\"\n",
    "    title=\"ERROR\"\n",
    "    if p < 0.9:\n",
    "        color = \"green\"\n",
    "        title = \"ALLOWED\"\n",
    "    draw_other(f[0][\"test_run\"][0][\"results\"][0], y_val, title)\n",
    "    color_print([k[\"var\"] for k in to_add[\"entries\"]], color)\n",
    "    print( \"*\" * 20)\n",
    "    to_add[\"p_score\"] = p\n",
    "    results.append(to_add)\n",
    "\n",
    "    \n",
    "\n"
   ]
  },
  {
   "cell_type": "code",
   "execution_count": null,
   "id": "83b01a18-95e3-4302-91d0-c848833ea95c",
   "metadata": {},
   "outputs": [],
   "source": [
    "\n",
    "with open(\"output_rnn_prob.json\", \"w\") as f:\n",
    "    f.write(json.dumps(results))\n"
   ]
  },
  {
   "cell_type": "code",
   "execution_count": null,
   "id": "9bb86851-069f-49da-9f3c-57aeb17166cc",
   "metadata": {},
   "outputs": [],
   "source": []
  }
 ],
 "metadata": {
  "kernelspec": {
   "display_name": "Python 3 (ipykernel)",
   "language": "python",
   "name": "python3"
  },
  "language_info": {
   "codemirror_mode": {
    "name": "ipython",
    "version": 3
   },
   "file_extension": ".py",
   "mimetype": "text/x-python",
   "name": "python",
   "nbconvert_exporter": "python",
   "pygments_lexer": "ipython3",
   "version": "3.12.3"
  }
 },
 "nbformat": 4,
 "nbformat_minor": 5
}
